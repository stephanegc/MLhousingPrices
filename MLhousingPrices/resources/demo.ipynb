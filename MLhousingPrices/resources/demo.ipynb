{
 "cells": [
  {
   "cell_type": "markdown",
   "metadata": {},
   "source": [
    "# Demo of the package\n",
    "This notebook shows how to use the classes in the package to predict outputs and train models."
   ]
  },
  {
   "cell_type": "code",
   "execution_count": 1,
   "metadata": {},
   "outputs": [],
   "source": [
    "import pandas as pd\n",
    "from MLhousingPrices import preprocessor, model"
   ]
  },
  {
   "cell_type": "markdown",
   "metadata": {},
   "source": [
    "## Predict\n",
    "This code loads the pretrained preprocessor and models used in the FastAPI.  "
   ]
  },
  {
   "cell_type": "code",
   "execution_count": 2,
   "metadata": {},
   "outputs": [
    {
     "data": {
      "text/html": [
       "<div>\n",
       "<style scoped>\n",
       "    .dataframe tbody tr th:only-of-type {\n",
       "        vertical-align: middle;\n",
       "    }\n",
       "\n",
       "    .dataframe tbody tr th {\n",
       "        vertical-align: top;\n",
       "    }\n",
       "\n",
       "    .dataframe thead th {\n",
       "        text-align: right;\n",
       "    }\n",
       "</style>\n",
       "<table border=\"1\" class=\"dataframe\">\n",
       "  <thead>\n",
       "    <tr style=\"text-align: right;\">\n",
       "      <th></th>\n",
       "      <th>num__longitude</th>\n",
       "      <th>num__median_income</th>\n",
       "      <th>num__latitude</th>\n",
       "      <th>cat__ocean_proximity__1H OCEAN</th>\n",
       "      <th>cat__ocean_proximity_INLAND</th>\n",
       "      <th>cat__ocean_proximity_ISLAND</th>\n",
       "      <th>cat__ocean_proximity_NEAR BAY</th>\n",
       "      <th>cat__ocean_proximity_NEAR OCEAN</th>\n",
       "    </tr>\n",
       "  </thead>\n",
       "  <tbody>\n",
       "    <tr>\n",
       "      <th>14740</th>\n",
       "      <td>1.253252</td>\n",
       "      <td>0.144489</td>\n",
       "      <td>-1.425135</td>\n",
       "      <td>0.0</td>\n",
       "      <td>0.0</td>\n",
       "      <td>0.0</td>\n",
       "      <td>0.0</td>\n",
       "      <td>1.0</td>\n",
       "    </tr>\n",
       "    <tr>\n",
       "      <th>10101</th>\n",
       "      <td>0.794442</td>\n",
       "      <td>0.998204</td>\n",
       "      <td>-0.797937</td>\n",
       "      <td>1.0</td>\n",
       "      <td>0.0</td>\n",
       "      <td>0.0</td>\n",
       "      <td>0.0</td>\n",
       "      <td>0.0</td>\n",
       "    </tr>\n",
       "    <tr>\n",
       "      <th>20566</th>\n",
       "      <td>-1.135549</td>\n",
       "      <td>0.247755</td>\n",
       "      <td>1.415977</td>\n",
       "      <td>0.0</td>\n",
       "      <td>1.0</td>\n",
       "      <td>0.0</td>\n",
       "      <td>0.0</td>\n",
       "      <td>0.0</td>\n",
       "    </tr>\n",
       "    <tr>\n",
       "      <th>2670</th>\n",
       "      <td>1.976375</td>\n",
       "      <td>-0.747459</td>\n",
       "      <td>-1.134939</td>\n",
       "      <td>0.0</td>\n",
       "      <td>1.0</td>\n",
       "      <td>0.0</td>\n",
       "      <td>0.0</td>\n",
       "      <td>0.0</td>\n",
       "    </tr>\n",
       "    <tr>\n",
       "      <th>15709</th>\n",
       "      <td>-1.429785</td>\n",
       "      <td>0.591906</td>\n",
       "      <td>1.013447</td>\n",
       "      <td>0.0</td>\n",
       "      <td>0.0</td>\n",
       "      <td>0.0</td>\n",
       "      <td>1.0</td>\n",
       "      <td>0.0</td>\n",
       "    </tr>\n",
       "  </tbody>\n",
       "</table>\n",
       "</div>"
      ],
      "text/plain": [
       "       num__longitude  num__median_income  num__latitude  \\\n",
       "14740        1.253252            0.144489      -1.425135   \n",
       "10101        0.794442            0.998204      -0.797937   \n",
       "20566       -1.135549            0.247755       1.415977   \n",
       "2670         1.976375           -0.747459      -1.134939   \n",
       "15709       -1.429785            0.591906       1.013447   \n",
       "\n",
       "       cat__ocean_proximity__1H OCEAN  cat__ocean_proximity_INLAND  \\\n",
       "14740                             0.0                          0.0   \n",
       "10101                             1.0                          0.0   \n",
       "20566                             0.0                          1.0   \n",
       "2670                              0.0                          1.0   \n",
       "15709                             0.0                          0.0   \n",
       "\n",
       "       cat__ocean_proximity_ISLAND  cat__ocean_proximity_NEAR BAY  \\\n",
       "14740                          0.0                            0.0   \n",
       "10101                          0.0                            0.0   \n",
       "20566                          0.0                            0.0   \n",
       "2670                           0.0                            0.0   \n",
       "15709                          0.0                            1.0   \n",
       "\n",
       "       cat__ocean_proximity_NEAR OCEAN  \n",
       "14740                              1.0  \n",
       "10101                              0.0  \n",
       "20566                              0.0  \n",
       "2670                               0.0  \n",
       "15709                              0.0  "
      ]
     },
     "execution_count": 2,
     "metadata": {},
     "output_type": "execute_result"
    }
   ],
   "source": [
    "pp = preprocessor.load_preprocessor(filename='preprocessor_02.pkl')\n",
    "X_test = pp.X_valid # replace this with your data to predict\n",
    "pp.preprocess_test(X_test)\n",
    "pp.X_test_pp.head()"
   ]
  },
  {
   "cell_type": "code",
   "execution_count": 3,
   "metadata": {},
   "outputs": [
    {
     "data": {
      "text/plain": [
       "array([148395.3 , 264409.84, 184801.06, ..., 178035.17, 232307.38,\n",
       "       180722.17], dtype=float32)"
      ]
     },
     "execution_count": 3,
     "metadata": {},
     "output_type": "execute_result"
    }
   ],
   "source": [
    "reg = model.load_model('xgb_tuned.pkl')\n",
    "y_pred = reg.predict(pp.X_test_pp)\n",
    "y_pred"
   ]
  },
  {
   "cell_type": "markdown",
   "metadata": {},
   "source": [
    "## Train\n",
    "This code shows how to use the classes to train the preprocessor and a chosen model (performs hyperparameter tuning).  \n",
    "Replace filepath to your data.  \n",
    "Set cluster to True if you wish to generate clusters using the latitude and longitude data, and use it as a feature.  \n",
    "Set subset to False if you wish to not only keeo 'longitude', 'median_income', 'latitude', 'ocean_proximity' (and cluster if selected)."
   ]
  },
  {
   "cell_type": "code",
   "execution_count": 3,
   "metadata": {},
   "outputs": [
    {
     "data": {
      "text/html": [
       "<div>\n",
       "<style scoped>\n",
       "    .dataframe tbody tr th:only-of-type {\n",
       "        vertical-align: middle;\n",
       "    }\n",
       "\n",
       "    .dataframe tbody tr th {\n",
       "        vertical-align: top;\n",
       "    }\n",
       "\n",
       "    .dataframe thead th {\n",
       "        text-align: right;\n",
       "    }\n",
       "</style>\n",
       "<table border=\"1\" class=\"dataframe\">\n",
       "  <thead>\n",
       "    <tr style=\"text-align: right;\">\n",
       "      <th></th>\n",
       "      <th>num__longitude</th>\n",
       "      <th>num__median_income</th>\n",
       "      <th>num__latitude</th>\n",
       "      <th>cat__ocean_proximity__1H OCEAN</th>\n",
       "      <th>cat__ocean_proximity_INLAND</th>\n",
       "      <th>cat__ocean_proximity_ISLAND</th>\n",
       "      <th>cat__ocean_proximity_NEAR BAY</th>\n",
       "      <th>cat__ocean_proximity_NEAR OCEAN</th>\n",
       "    </tr>\n",
       "  </thead>\n",
       "  <tbody>\n",
       "    <tr>\n",
       "      <th>12069</th>\n",
       "      <td>1.003899</td>\n",
       "      <td>0.190012</td>\n",
       "      <td>-0.840062</td>\n",
       "      <td>0.0</td>\n",
       "      <td>1.0</td>\n",
       "      <td>0.0</td>\n",
       "      <td>0.0</td>\n",
       "      <td>0.0</td>\n",
       "    </tr>\n",
       "    <tr>\n",
       "      <th>15925</th>\n",
       "      <td>-1.434772</td>\n",
       "      <td>0.269311</td>\n",
       "      <td>0.985364</td>\n",
       "      <td>0.0</td>\n",
       "      <td>0.0</td>\n",
       "      <td>0.0</td>\n",
       "      <td>1.0</td>\n",
       "      <td>0.0</td>\n",
       "    </tr>\n",
       "    <tr>\n",
       "      <th>11162</th>\n",
       "      <td>0.779481</td>\n",
       "      <td>0.029895</td>\n",
       "      <td>-0.840062</td>\n",
       "      <td>1.0</td>\n",
       "      <td>0.0</td>\n",
       "      <td>0.0</td>\n",
       "      <td>0.0</td>\n",
       "      <td>0.0</td>\n",
       "    </tr>\n",
       "    <tr>\n",
       "      <th>4904</th>\n",
       "      <td>0.649818</td>\n",
       "      <td>-1.264470</td>\n",
       "      <td>-0.755812</td>\n",
       "      <td>1.0</td>\n",
       "      <td>0.0</td>\n",
       "      <td>0.0</td>\n",
       "      <td>0.0</td>\n",
       "      <td>0.0</td>\n",
       "    </tr>\n",
       "    <tr>\n",
       "      <th>4683</th>\n",
       "      <td>0.599947</td>\n",
       "      <td>-0.367016</td>\n",
       "      <td>-0.723048</td>\n",
       "      <td>1.0</td>\n",
       "      <td>0.0</td>\n",
       "      <td>0.0</td>\n",
       "      <td>0.0</td>\n",
       "      <td>0.0</td>\n",
       "    </tr>\n",
       "  </tbody>\n",
       "</table>\n",
       "</div>"
      ],
      "text/plain": [
       "       num__longitude  num__median_income  num__latitude  \\\n",
       "12069        1.003899            0.190012      -0.840062   \n",
       "15925       -1.434772            0.269311       0.985364   \n",
       "11162        0.779481            0.029895      -0.840062   \n",
       "4904         0.649818           -1.264470      -0.755812   \n",
       "4683         0.599947           -0.367016      -0.723048   \n",
       "\n",
       "       cat__ocean_proximity__1H OCEAN  cat__ocean_proximity_INLAND  \\\n",
       "12069                             0.0                          1.0   \n",
       "15925                             0.0                          0.0   \n",
       "11162                             1.0                          0.0   \n",
       "4904                              1.0                          0.0   \n",
       "4683                              1.0                          0.0   \n",
       "\n",
       "       cat__ocean_proximity_ISLAND  cat__ocean_proximity_NEAR BAY  \\\n",
       "12069                          0.0                            0.0   \n",
       "15925                          0.0                            1.0   \n",
       "11162                          0.0                            0.0   \n",
       "4904                           0.0                            0.0   \n",
       "4683                           0.0                            0.0   \n",
       "\n",
       "       cat__ocean_proximity_NEAR OCEAN  \n",
       "12069                              0.0  \n",
       "15925                              0.0  \n",
       "11162                              0.0  \n",
       "4904                               0.0  \n",
       "4683                               0.0  "
      ]
     },
     "execution_count": 3,
     "metadata": {},
     "output_type": "execute_result"
    }
   ],
   "source": [
    "filepath = \"data/housing.csv\"\n",
    "data = pd.read_csv(filepath)\n",
    "pp = preprocessor.Preprocessor(data, cluster=False, subset=True) \n",
    "pp.split().preprocess_train()\n",
    "pp.X_train_pp.head()"
   ]
  },
  {
   "cell_type": "code",
   "execution_count": 7,
   "metadata": {},
   "outputs": [],
   "source": [
    "pp.save('03')"
   ]
  },
  {
   "cell_type": "markdown",
   "metadata": {},
   "source": [
    "Choose the type of model to train (with hyperparameter tuning) by setting the modelType.  \n",
    "Accepted values for modelType are 'xgb' (), 'rfr' and 'knn'."
   ]
  },
  {
   "cell_type": "code",
   "execution_count": 4,
   "metadata": {},
   "outputs": [
    {
     "name": "stderr",
     "output_type": "stream",
     "text": [
      "c:\\Users\\steph\\OneDrive\\Documents\\DataEngineering\\MLhousingPrices\\.venv\\Lib\\site-packages\\numpy\\ma\\core.py:2881: RuntimeWarning: invalid value encountered in cast\n",
      "  _data = np.array(data, dtype=dtype, copy=copy,\n"
     ]
    },
    {
     "data": {
      "text/plain": [
       "<MLhousingPrices.model.ModelTrainer at 0x2a2b4a25eb0>"
      ]
     },
     "execution_count": 4,
     "metadata": {},
     "output_type": "execute_result"
    }
   ],
   "source": [
    "mt = model.ModelTrainer(modelType='knn')\n",
    "mt.train(X_train_pp=pp.X_train_pp, y_train=pp.y_train)"
   ]
  },
  {
   "cell_type": "code",
   "execution_count": 5,
   "metadata": {},
   "outputs": [
    {
     "data": {
      "text/plain": [
       "np.float64(0.7666677612418966)"
      ]
     },
     "execution_count": 5,
     "metadata": {},
     "output_type": "execute_result"
    }
   ],
   "source": [
    "mt.model.best_score_ # r2"
   ]
  },
  {
   "cell_type": "code",
   "execution_count": 6,
   "metadata": {},
   "outputs": [
    {
     "data": {
      "text/plain": [
       "{'n_neighbors': 10, 'weights': 'distance'}"
      ]
     },
     "execution_count": 6,
     "metadata": {},
     "output_type": "execute_result"
    }
   ],
   "source": [
    "mt.model.best_params_"
   ]
  },
  {
   "cell_type": "code",
   "execution_count": null,
   "metadata": {},
   "outputs": [],
   "source": [
    "mt.save"
   ]
  }
 ],
 "metadata": {
  "kernelspec": {
   "display_name": ".venv",
   "language": "python",
   "name": "python3"
  },
  "language_info": {
   "codemirror_mode": {
    "name": "ipython",
    "version": 3
   },
   "file_extension": ".py",
   "mimetype": "text/x-python",
   "name": "python",
   "nbconvert_exporter": "python",
   "pygments_lexer": "ipython3",
   "version": "3.12.3"
  }
 },
 "nbformat": 4,
 "nbformat_minor": 2
}
